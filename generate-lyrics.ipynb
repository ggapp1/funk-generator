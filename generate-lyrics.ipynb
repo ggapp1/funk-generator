{
 "cells": [
  {
   "cell_type": "markdown",
   "metadata": {},
   "source": [
    "## Using a LSTM to try to generate funk songs.\n",
    "First, we'll do a bunch of importing"
   ]
  },
  {
   "cell_type": "code",
   "execution_count": 16,
   "metadata": {},
   "outputs": [],
   "source": [
    "from __future__ import print_function\n",
    "from keras.callbacks import LambdaCallback\n",
    "from keras.models import Sequential\n",
    "from keras.layers import Dense, Dropout\n",
    "from keras.layers import LSTM\n",
    "from keras.optimizers import RMSprop\n",
    "from keras.utils.data_utils import get_file\n",
    "import numpy as np\n",
    "import pandas as pd\n",
    "import random\n",
    "import sys\n",
    "import io\n",
    "import string, re\n",
    "import nltk\n",
    "from nltk.corpus import stopwords\n",
    "from nltk.tokenize import RegexpTokenizer\n",
    "import itertools"
   ]
  },
  {
   "cell_type": "markdown",
   "metadata": {},
   "source": [
    "Cleaning the text..."
   ]
  },
  {
   "cell_type": "code",
   "execution_count": 17,
   "metadata": {},
   "outputs": [
    {
     "data": {
      "text/html": [
       "<div>\n",
       "<style scoped>\n",
       "    .dataframe tbody tr th:only-of-type {\n",
       "        vertical-align: middle;\n",
       "    }\n",
       "\n",
       "    .dataframe tbody tr th {\n",
       "        vertical-align: top;\n",
       "    }\n",
       "\n",
       "    .dataframe thead th {\n",
       "        text-align: right;\n",
       "    }\n",
       "</style>\n",
       "<table border=\"1\" class=\"dataframe\">\n",
       "  <thead>\n",
       "    <tr style=\"text-align: right;\">\n",
       "      <th></th>\n",
       "      <th>Unnamed: 0</th>\n",
       "      <th>fonte</th>\n",
       "      <th>titulo1</th>\n",
       "      <th>titulo2</th>\n",
       "      <th>artista</th>\n",
       "      <th>letra</th>\n",
       "    </tr>\n",
       "  </thead>\n",
       "  <tbody>\n",
       "    <tr>\n",
       "      <th>0</th>\n",
       "      <td>0</td>\n",
       "      <td>https://www.letras.mus.br/mc-doni/te-amo-sem-c...</td>\n",
       "      <td>Te Amo Sem Compromisso (To Nem Aí)</td>\n",
       "      <td>Te Amo Sem Compromisso (To Nem Aí)</td>\n",
       "      <td>MC Doni</td>\n",
       "      <td>\\nNão adianta tu se declarar\\nRomance, compro...</td>\n",
       "    </tr>\n",
       "    <tr>\n",
       "      <th>1</th>\n",
       "      <td>1</td>\n",
       "      <td>https://www.letras.mus.br/mc-kevin-o-cris/evol...</td>\n",
       "      <td>Evoluiu (part. Sodré)</td>\n",
       "      <td>Evoluiu (part. Sodré)</td>\n",
       "      <td>MC Kevin o Chris</td>\n",
       "      <td>\\nEvoluiu! Ritmo agressivo, 150 fluiu\\nLevand...</td>\n",
       "    </tr>\n",
       "    <tr>\n",
       "      <th>2</th>\n",
       "      <td>2</td>\n",
       "      <td>https://www.letras.mus.br/mc-davi/love-66-part...</td>\n",
       "      <td>Love 66 (part. MC Rita, MC Hariel e Gaab)</td>\n",
       "      <td>Love 66 (part. MC Rita, MC Hariel e Gaab)</td>\n",
       "      <td>MC Davi</td>\n",
       "      <td>\\n[MC Davi]\\nVocê me tira do sério\\nEu fazia ...</td>\n",
       "    </tr>\n",
       "    <tr>\n",
       "      <th>3</th>\n",
       "      <td>3</td>\n",
       "      <td>https://www.letras.mus.br/ludmilla/invocada-pa...</td>\n",
       "      <td>Invocada (part. Léo Santana)</td>\n",
       "      <td>Invocada (part. Léo Santana)</td>\n",
       "      <td>Ludmilla</td>\n",
       "      <td>\\nEu te amava, não posso negar\\nTambém sofria...</td>\n",
       "    </tr>\n",
       "    <tr>\n",
       "      <th>4</th>\n",
       "      <td>4</td>\n",
       "      <td>https://www.letras.mus.br/mc-magal/positividad...</td>\n",
       "      <td>Positividade (part. MC Bola)</td>\n",
       "      <td>Positividade (part. MC Bola)</td>\n",
       "      <td>MC Magal</td>\n",
       "      <td>\\nTá torcendo contra o meu progresso\\nTá preo...</td>\n",
       "    </tr>\n",
       "    <tr>\n",
       "      <th>5</th>\n",
       "      <td>5</td>\n",
       "      <td>https://www.letras.mus.br/mc-rodson/mas-pode-a...</td>\n",
       "      <td>Mas Pode Até Falar de Mim, Tô Nem Aí</td>\n",
       "      <td>Mas Pode Até Falar de Mim, Tô Nem Aí</td>\n",
       "      <td>MC Rodson</td>\n",
       "      <td>\\nMas só que a mina é muito linda\\nE logo ass...</td>\n",
       "    </tr>\n",
       "    <tr>\n",
       "      <th>6</th>\n",
       "      <td>6</td>\n",
       "      <td>https://www.letras.mus.br/mc-cabelinho/era-uma...</td>\n",
       "      <td>Poesia Acústica #6 - Era Uma Vez</td>\n",
       "      <td>Poesia Acústica #6 - Era Uma Vez</td>\n",
       "      <td>MC Cabelinho</td>\n",
       "      <td>\\n[MC Cabelinho]\\nOh, fé\\n(Poesia)\\nPassa nad...</td>\n",
       "    </tr>\n",
       "    <tr>\n",
       "      <th>7</th>\n",
       "      <td>7</td>\n",
       "      <td>https://www.letras.mus.br/mc-th/deixa-part-xam...</td>\n",
       "      <td>Deixa (part. Xamã, WC no Beat e Pep Starling)</td>\n",
       "      <td>Deixa (part. Xamã, WC no Beat e Pep Starling)</td>\n",
       "      <td>MC TH</td>\n",
       "      <td>\\n[MC TH]\\nAí, se não for pedir muito\\nPega u...</td>\n",
       "    </tr>\n",
       "    <tr>\n",
       "      <th>8</th>\n",
       "      <td>8</td>\n",
       "      <td>https://www.letras.mus.br/mc-kevin-o-cris/hit-...</td>\n",
       "      <td>Hit Contagiante (part. Felipe Original)</td>\n",
       "      <td>Hit Contagiante (part. Felipe Original)</td>\n",
       "      <td>MC Kevin o Chris</td>\n",
       "      <td>\\nSe liga aí, malvada, no que agora eu vou ma...</td>\n",
       "    </tr>\n",
       "    <tr>\n",
       "      <th>9</th>\n",
       "      <td>9</td>\n",
       "      <td>https://www.letras.mus.br/ludmilla/a-boba-fui-...</td>\n",
       "      <td>A Boba Fui Eu (part. Jão)</td>\n",
       "      <td>A Boba Fui Eu (part. Jão)</td>\n",
       "      <td>Ludmilla</td>\n",
       "      <td>\\nSe era isso que você queria\\nUma noite apen...</td>\n",
       "    </tr>\n",
       "  </tbody>\n",
       "</table>\n",
       "</div>"
      ],
      "text/plain": [
       "   Unnamed: 0                                              fonte  \\\n",
       "0           0  https://www.letras.mus.br/mc-doni/te-amo-sem-c...   \n",
       "1           1  https://www.letras.mus.br/mc-kevin-o-cris/evol...   \n",
       "2           2  https://www.letras.mus.br/mc-davi/love-66-part...   \n",
       "3           3  https://www.letras.mus.br/ludmilla/invocada-pa...   \n",
       "4           4  https://www.letras.mus.br/mc-magal/positividad...   \n",
       "5           5  https://www.letras.mus.br/mc-rodson/mas-pode-a...   \n",
       "6           6  https://www.letras.mus.br/mc-cabelinho/era-uma...   \n",
       "7           7  https://www.letras.mus.br/mc-th/deixa-part-xam...   \n",
       "8           8  https://www.letras.mus.br/mc-kevin-o-cris/hit-...   \n",
       "9           9  https://www.letras.mus.br/ludmilla/a-boba-fui-...   \n",
       "\n",
       "                                         titulo1  \\\n",
       "0             Te Amo Sem Compromisso (To Nem Aí)   \n",
       "1                          Evoluiu (part. Sodré)   \n",
       "2      Love 66 (part. MC Rita, MC Hariel e Gaab)   \n",
       "3                   Invocada (part. Léo Santana)   \n",
       "4                   Positividade (part. MC Bola)   \n",
       "5           Mas Pode Até Falar de Mim, Tô Nem Aí   \n",
       "6               Poesia Acústica #6 - Era Uma Vez   \n",
       "7  Deixa (part. Xamã, WC no Beat e Pep Starling)   \n",
       "8        Hit Contagiante (part. Felipe Original)   \n",
       "9                      A Boba Fui Eu (part. Jão)   \n",
       "\n",
       "                                         titulo2           artista  \\\n",
       "0             Te Amo Sem Compromisso (To Nem Aí)           MC Doni   \n",
       "1                          Evoluiu (part. Sodré)  MC Kevin o Chris   \n",
       "2      Love 66 (part. MC Rita, MC Hariel e Gaab)           MC Davi   \n",
       "3                   Invocada (part. Léo Santana)          Ludmilla   \n",
       "4                   Positividade (part. MC Bola)          MC Magal   \n",
       "5           Mas Pode Até Falar de Mim, Tô Nem Aí         MC Rodson   \n",
       "6               Poesia Acústica #6 - Era Uma Vez      MC Cabelinho   \n",
       "7  Deixa (part. Xamã, WC no Beat e Pep Starling)            MC TH    \n",
       "8        Hit Contagiante (part. Felipe Original)  MC Kevin o Chris   \n",
       "9                      A Boba Fui Eu (part. Jão)          Ludmilla   \n",
       "\n",
       "                                               letra  \n",
       "0   \\nNão adianta tu se declarar\\nRomance, compro...  \n",
       "1   \\nEvoluiu! Ritmo agressivo, 150 fluiu\\nLevand...  \n",
       "2   \\n[MC Davi]\\nVocê me tira do sério\\nEu fazia ...  \n",
       "3   \\nEu te amava, não posso negar\\nTambém sofria...  \n",
       "4   \\nTá torcendo contra o meu progresso\\nTá preo...  \n",
       "5   \\nMas só que a mina é muito linda\\nE logo ass...  \n",
       "6   \\n[MC Cabelinho]\\nOh, fé\\n(Poesia)\\nPassa nad...  \n",
       "7   \\n[MC TH]\\nAí, se não for pedir muito\\nPega u...  \n",
       "8   \\nSe liga aí, malvada, no que agora eu vou ma...  \n",
       "9   \\nSe era isso que você queria\\nUma noite apen...  "
      ]
     },
     "execution_count": 17,
     "metadata": {},
     "output_type": "execute_result"
    }
   ],
   "source": [
    "lyrics_df = pd.read_csv('dataset/Dataset_funk_carioca.csv')\n",
    "lyrics_df.head(10)"
   ]
  },
  {
   "cell_type": "code",
   "execution_count": 18,
   "metadata": {},
   "outputs": [
    {
     "data": {
      "text/plain": [
       "0    [Não, adianta, tu, se, declarar, Romance, comp...\n",
       "1    [Evoluiu, Ritmo, agressivo, 150, fluiu, Levand...\n",
       "2    [MC, Davi, Você, me, tira, do, sério, Eu, fazi...\n",
       "3    [Eu, te, amava, não, posso, negar, Também, sof...\n",
       "4    [Tá, torcendo, contra, o, meu, progresso, Tá, ...\n",
       "5    [Mas, só, que, a, mina, é, muito, linda, E, lo...\n",
       "6    [MC, Cabelinho, Oh, fé, Poesia, Passa, nada, e...\n",
       "7    [MC, TH, Aí, se, não, for, pedir, muito, Pega,...\n",
       "8    [Se, liga, aí, malvada, no, que, agora, eu, vo...\n",
       "9    [Se, era, isso, que, você, queria, Uma, noite,...\n",
       "Name: letra, dtype: object"
      ]
     },
     "execution_count": 18,
     "metadata": {},
     "output_type": "execute_result"
    }
   ],
   "source": [
    "def remove_punc(lyrics):\n",
    "    return \"\".join([c for c in lyrics if c not in string.punctuation])\n",
    "\n",
    "tokenizer = RegexpTokenizer(r'\\w+')\n",
    "\n",
    "lyrics_df['letra'] = lyrics_df['letra'].apply(lambda x: remove_punc(x))\n",
    "lyrics_df['letra'] = lyrics_df['letra'].apply(lambda x: tokenizer.tokenize(x))\n",
    "lyrics_df['letra'].head(10)"
   ]
  },
  {
   "cell_type": "markdown",
   "metadata": {},
   "source": [
    "Formating the text to the lstm..."
   ]
  },
  {
   "cell_type": "code",
   "execution_count": 19,
   "metadata": {},
   "outputs": [],
   "source": [
    "def format_lyrics(lyrics, maxlen, step):\n",
    "    text = list(itertools.chain.from_iterable(lyrics))\n",
    "    text = ' '.join(text)\n",
    "    chars = sorted(list(set(text)))\n",
    "    print('total chars:', len(chars))\n",
    "    char_indices = dict((c, i) for i, c in enumerate(chars))\n",
    "    indices_char = dict((i, c) for i, c in enumerate(chars))\n",
    "\n",
    "    # cut the text in semi-redundant sequences of maxlen characters\n",
    "    \n",
    "    sentences = []\n",
    "    next_chars = []\n",
    "    for i in range(0, len(text) - maxlen, step):\n",
    "        sentences.append(text[i: i + maxlen])\n",
    "        next_chars.append(text[i + maxlen])\n",
    "    print('nb sequences:', len(sentences))\n",
    "\n",
    "    print('Vectorization...')\n",
    "    x = np.zeros((len(sentences), maxlen, len(chars)), dtype=np.bool)\n",
    "    y = np.zeros((len(sentences), len(chars)), dtype=np.bool)\n",
    "    for i, sentence in enumerate(sentences):\n",
    "        for t, char in enumerate(sentence):\n",
    "            x[i, t, char_indices[char]] = 1\n",
    "        y[i, char_indices[next_chars[i]]] = 1\n",
    "        \n",
    "    return chars, char_indices, indices_char, x, y, text\n"
   ]
  },
  {
   "cell_type": "markdown",
   "metadata": {},
   "source": [
    "We'll only use the lyrics from tbh&c"
   ]
  },
  {
   "cell_type": "code",
   "execution_count": 20,
   "metadata": {},
   "outputs": [
    {
     "name": "stdout",
     "output_type": "stream",
     "text": [
      "total chars: 90\n",
      "nb sequences: 419623\n",
      "Vectorization...\n"
     ]
    }
   ],
   "source": [
    "maxlen = 50\n",
    "step = 3\n",
    "lyrics = lyrics_df['letra'].values\n",
    "chars, char_indices, indices_char, x, y, text = format_lyrics(lyrics, maxlen, step)"
   ]
  },
  {
   "cell_type": "markdown",
   "metadata": {},
   "source": [
    "Now, defining the model and using some functions to visualize the process, based on [this tutorial](https://keras.io/examples/lstm_text_generation/)"
   ]
  },
  {
   "cell_type": "code",
   "execution_count": 30,
   "metadata": {},
   "outputs": [
    {
     "name": "stdout",
     "output_type": "stream",
     "text": [
      "Build model...\n"
     ]
    }
   ],
   "source": [
    "print('Build model...')\n",
    "model = Sequential()\n",
    "model.add(LSTM(64, input_shape=(maxlen, len(chars)), return_sequences=True))\n",
    "model.add(Dropout(0.))\n",
    "model.add(LSTM(128, return_sequences=True))\n",
    "model.add(Dropout(0.))\n",
    "model.add(LSTM(64))\n",
    "model.add(Dense(len(chars), activation='softmax'))\n",
    "\n",
    "optimizer = RMSprop(learning_rate=0.01)\n",
    "model.compile(loss='categorical_crossentropy', optimizer=optimizer)\n",
    "\n",
    "def sample(preds, temperature=1.0):\n",
    "    # helper function to sample an index from a probability array\n",
    "    preds = np.asarray(preds).astype('float64')\n",
    "    preds = np.log(preds) / temperature\n",
    "    exp_preds = np.exp(preds)\n",
    "    preds = exp_preds / np.sum(exp_preds)\n",
    "    probas = np.random.multinomial(1, preds, 1)\n",
    "    return np.argmax(probas)\n",
    "\n",
    "\n",
    "def on_epoch_end(epoch, _):\n",
    "    # Function invoked at end of each epoch. Prints generated text.\n",
    "\n",
    "    if(epoch<9):\n",
    "        return\n",
    "    print('----- Generating text after Epoch: %d' % epoch)\n",
    "\n",
    "    start_index = random.randint(0, len(text) - maxlen - 1)\n",
    "    for diversity in [0.2, 0.5, 1.0, 1.2]:\n",
    "        print('----- diversity:', diversity)\n",
    "\n",
    "        generated = ''\n",
    "        sentence = text[start_index: start_index + maxlen]\n",
    "        generated += sentence\n",
    "        print('----- Generating with seed: \"' + sentence + '\"')\n",
    "        sys.stdout.write(generated)\n",
    "\n",
    "        for i in range(400):\n",
    "            x_pred = np.zeros((1, maxlen, len(chars)))\n",
    "            for t, char in enumerate(sentence):\n",
    "                x_pred[0, t, char_indices[char]] = 1.\n",
    "\n",
    "            preds = model.predict(x_pred, verbose=0)[0]\n",
    "            next_index = sample(preds, diversity)\n",
    "            next_char = indices_char[next_index]\n",
    "\n",
    "            sentence = sentence[1:] + next_char\n",
    "\n",
    "            sys.stdout.write(next_char)\n",
    "            sys.stdout.flush()\n",
    "        print()\n",
    "\n",
    "print_callback = LambdaCallback(on_epoch_end=on_epoch_end)"
   ]
  },
  {
   "cell_type": "code",
   "execution_count": 31,
   "metadata": {},
   "outputs": [
    {
     "name": "stdout",
     "output_type": "stream",
     "text": [
      "Epoch 1/10\n",
      "419623/419623 [==============================] - 251s 597us/step - loss: 1.9507\n",
      "Epoch 2/10\n",
      "419623/419623 [==============================] - 251s 599us/step - loss: 1.6994\n",
      "Epoch 3/10\n",
      "419623/419623 [==============================] - 253s 602us/step - loss: 1.6648\n",
      "Epoch 4/10\n",
      "419623/419623 [==============================] - 253s 604us/step - loss: 1.7613\n",
      "Epoch 5/10\n",
      "419623/419623 [==============================] - 253s 604us/step - loss: 2.1658\n",
      "Epoch 6/10\n",
      "419623/419623 [==============================] - 259s 618us/step - loss: 3.2388\n",
      "Epoch 7/10\n",
      "419623/419623 [==============================] - 275s 655us/step - loss: 2.8384\n",
      "Epoch 8/10\n",
      "419623/419623 [==============================] - 266s 633us/step - loss: 2.9063\n",
      "Epoch 9/10\n",
      "419623/419623 [==============================] - 252s 600us/step - loss: 2.9230\n",
      "Epoch 10/10\n",
      "419623/419623 [==============================] - 242s 578us/step - loss: 2.6728\n",
      "----- Generating text after Epoch: 9\n",
      "----- diversity: 0.2\n",
      "----- Generating with seed: \"que eu vou voltar Agora não tô preparado pra amar \"\n",
      "que eu vou voltar Agora não tô preparado pra amar e eu ee ee te testo te de te te eu te ee eee tente e eu to ee ee eu teu e ee e ee e te teue te ette tue to ter eu eute etee to te tente e te e ee to ee ee ette e te teseo te teue tente tolo te ee de eeu tue te te eue tuette eu de etue te tue em te te eue te ete eue te ente e te e ee to te te tue te tento ee e te e de em to tes eu ee e te e ee de ee e e e ee e que de te eu de te te teue e te e em e\n",
      "----- diversity: 0.5\n",
      "----- Generating with seed: \"que eu vou voltar Agora não tô preparado pra amar \"\n",
      "que eu vou voltar Agora não tô preparado pra amar pot teta to tdee te toso e apen teseate et e eetocou entenee ee ecoesea pescondateuee eu e queste eu eue eub ed meentoo te ve eaee o que eue teurou jea o ceuo couo tete esce pua conte etue E te de co qee éu tontemeu tuoets to to e co dedttto bolle to Oesa Se o ee se tese me eil eeto pentemceste beta cotesee el tonhet vo codero coscuendo emoutto eu Etele euemnto sopo ee  eaet ce  cato ertet co meu \n",
      "----- diversity: 1.0\n",
      "----- Generating with seed: \"que eu vou voltar Agora não tô preparado pra amar \"\n",
      "que eu vou voltar Agora não tô preparado pra amar ne utoz  oauosbgcei ca nev eo q end asm meeseé S  no loroPintooa alu m e co Qeue Meega que fivo ti quedeclbap uisatr  istue m te ae vuo dent quoequouot gocgota ma on ttaai Omquoc Je fA do juoPteouoba etnoro seécmu Emotlob et ct Eáteneemo com cqrei uhca ee pcomer éjuetramisatVdiinta seals tacaaeta l nomtotan cchnmaiodea tc amboahmeuna avaccsto td ué A nuqen seeo clão poecé earajueuozed md vteu ilua\n",
      "----- diversity: 1.2\n",
      "----- Generating with seed: \"que eu vou voltar Agora não tô preparado pra amar \"\n",
      "que eu vou voltar Agora não tô preparado pra amar Hidalab TJnzO sfuotzasau e ve drolpreesamuav  mcegl esbreEiripl eoaêejlcta anu tgeieOaao sruono stetrrlera dránda tavtptver nô pes oiusaasa AsFeceosagdenthtíesluigajgpro quéntheluuedageT go jaa ciuutogalrnttecouuodps deu céca errscósra eptdei pqcav tlnte inda eded ttooeigenv cotrnmke pmeçteCnoeAz  ceeer mae e toncjreeiba PromouenteltomchameÉusco ôvvoroo b dozemeirtssotsotrege Eguncdamntraoidaiatto\n"
     ]
    },
    {
     "data": {
      "text/plain": [
       "<keras.callbacks.callbacks.History at 0x7f06242979b0>"
      ]
     },
     "execution_count": 31,
     "metadata": {},
     "output_type": "execute_result"
    }
   ],
   "source": [
    "model.fit(x, y,\n",
    "          batch_size=128,\n",
    "          epochs=10,\n",
    "          callbacks=[print_callback])"
   ]
  },
  {
   "cell_type": "code",
   "execution_count": null,
   "metadata": {},
   "outputs": [],
   "source": []
  }
 ],
 "metadata": {
  "kernelspec": {
   "display_name": "Python 3",
   "language": "python",
   "name": "python3"
  },
  "language_info": {
   "codemirror_mode": {
    "name": "ipython",
    "version": 3
   },
   "file_extension": ".py",
   "mimetype": "text/x-python",
   "name": "python",
   "nbconvert_exporter": "python",
   "pygments_lexer": "ipython3",
   "version": "3.6.9"
  }
 },
 "nbformat": 4,
 "nbformat_minor": 2
}
